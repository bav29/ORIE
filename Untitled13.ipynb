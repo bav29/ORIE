{
  "nbformat": 4,
  "nbformat_minor": 0,
  "metadata": {
    "colab": {
      "provenance": []
    },
    "kernelspec": {
      "name": "python3",
      "display_name": "Python 3"
    },
    "language_info": {
      "name": "python"
    }
  },
  "cells": [
    {
      "cell_type": "code",
      "execution_count": 2,
      "metadata": {
        "id": "hKshjgojpNXh"
      },
      "outputs": [],
      "source": [
        "\n",
        "# Things to import in general:  standard math/stats/plotting packages\n",
        "import numpy as np\n",
        "import pandas as pd\n",
        "import matplotlib.pyplot as plt\n",
        "import scipy\n",
        "from scipy import stats\n",
        "import math"
      ]
    },
    {
      "cell_type": "code",
      "source": [
        "import sys\n",
        "!{sys.executable} -m pip install haversine"
      ],
      "metadata": {
        "colab": {
          "base_uri": "https://localhost:8080/"
        },
        "id": "FWw2QBl6pP1I",
        "outputId": "fdf16718-b7cd-4114-8ab6-8b0886cdce80"
      },
      "execution_count": 3,
      "outputs": [
        {
          "output_type": "stream",
          "name": "stdout",
          "text": [
            "Looking in indexes: https://pypi.org/simple, https://us-python.pkg.dev/colab-wheels/public/simple/\n",
            "Collecting haversine\n",
            "  Downloading haversine-2.7.0-py2.py3-none-any.whl (6.9 kB)\n",
            "Installing collected packages: haversine\n",
            "Successfully installed haversine-2.7.0\n"
          ]
        }
      ]
    },
    {
      "cell_type": "code",
      "source": [
        "from haversine import haversine, Unit"
      ],
      "metadata": {
        "id": "gsJMwZxlpROI"
      },
      "execution_count": 4,
      "outputs": []
    },
    {
      "cell_type": "code",
      "source": [
        "from google.colab import files\n",
        "Volunteers = files.upload()"
      ],
      "metadata": {
        "colab": {
          "base_uri": "https://localhost:8080/",
          "height": 73
        },
        "id": "ipWkUbSTqx9r",
        "outputId": "2390ea04-744b-474a-c8a3-23d255f8f8fa"
      },
      "execution_count": 5,
      "outputs": [
        {
          "output_type": "display_data",
          "data": {
            "text/plain": [
              "<IPython.core.display.HTML object>"
            ],
            "text/html": [
              "\n",
              "     <input type=\"file\" id=\"files-18754f8b-da38-4373-8dc2-e40534700e55\" name=\"files[]\" multiple disabled\n",
              "        style=\"border:none\" />\n",
              "     <output id=\"result-18754f8b-da38-4373-8dc2-e40534700e55\">\n",
              "      Upload widget is only available when the cell has been executed in the\n",
              "      current browser session. Please rerun this cell to enable.\n",
              "      </output>\n",
              "      <script>// Copyright 2017 Google LLC\n",
              "//\n",
              "// Licensed under the Apache License, Version 2.0 (the \"License\");\n",
              "// you may not use this file except in compliance with the License.\n",
              "// You may obtain a copy of the License at\n",
              "//\n",
              "//      http://www.apache.org/licenses/LICENSE-2.0\n",
              "//\n",
              "// Unless required by applicable law or agreed to in writing, software\n",
              "// distributed under the License is distributed on an \"AS IS\" BASIS,\n",
              "// WITHOUT WARRANTIES OR CONDITIONS OF ANY KIND, either express or implied.\n",
              "// See the License for the specific language governing permissions and\n",
              "// limitations under the License.\n",
              "\n",
              "/**\n",
              " * @fileoverview Helpers for google.colab Python module.\n",
              " */\n",
              "(function(scope) {\n",
              "function span(text, styleAttributes = {}) {\n",
              "  const element = document.createElement('span');\n",
              "  element.textContent = text;\n",
              "  for (const key of Object.keys(styleAttributes)) {\n",
              "    element.style[key] = styleAttributes[key];\n",
              "  }\n",
              "  return element;\n",
              "}\n",
              "\n",
              "// Max number of bytes which will be uploaded at a time.\n",
              "const MAX_PAYLOAD_SIZE = 100 * 1024;\n",
              "\n",
              "function _uploadFiles(inputId, outputId) {\n",
              "  const steps = uploadFilesStep(inputId, outputId);\n",
              "  const outputElement = document.getElementById(outputId);\n",
              "  // Cache steps on the outputElement to make it available for the next call\n",
              "  // to uploadFilesContinue from Python.\n",
              "  outputElement.steps = steps;\n",
              "\n",
              "  return _uploadFilesContinue(outputId);\n",
              "}\n",
              "\n",
              "// This is roughly an async generator (not supported in the browser yet),\n",
              "// where there are multiple asynchronous steps and the Python side is going\n",
              "// to poll for completion of each step.\n",
              "// This uses a Promise to block the python side on completion of each step,\n",
              "// then passes the result of the previous step as the input to the next step.\n",
              "function _uploadFilesContinue(outputId) {\n",
              "  const outputElement = document.getElementById(outputId);\n",
              "  const steps = outputElement.steps;\n",
              "\n",
              "  const next = steps.next(outputElement.lastPromiseValue);\n",
              "  return Promise.resolve(next.value.promise).then((value) => {\n",
              "    // Cache the last promise value to make it available to the next\n",
              "    // step of the generator.\n",
              "    outputElement.lastPromiseValue = value;\n",
              "    return next.value.response;\n",
              "  });\n",
              "}\n",
              "\n",
              "/**\n",
              " * Generator function which is called between each async step of the upload\n",
              " * process.\n",
              " * @param {string} inputId Element ID of the input file picker element.\n",
              " * @param {string} outputId Element ID of the output display.\n",
              " * @return {!Iterable<!Object>} Iterable of next steps.\n",
              " */\n",
              "function* uploadFilesStep(inputId, outputId) {\n",
              "  const inputElement = document.getElementById(inputId);\n",
              "  inputElement.disabled = false;\n",
              "\n",
              "  const outputElement = document.getElementById(outputId);\n",
              "  outputElement.innerHTML = '';\n",
              "\n",
              "  const pickedPromise = new Promise((resolve) => {\n",
              "    inputElement.addEventListener('change', (e) => {\n",
              "      resolve(e.target.files);\n",
              "    });\n",
              "  });\n",
              "\n",
              "  const cancel = document.createElement('button');\n",
              "  inputElement.parentElement.appendChild(cancel);\n",
              "  cancel.textContent = 'Cancel upload';\n",
              "  const cancelPromise = new Promise((resolve) => {\n",
              "    cancel.onclick = () => {\n",
              "      resolve(null);\n",
              "    };\n",
              "  });\n",
              "\n",
              "  // Wait for the user to pick the files.\n",
              "  const files = yield {\n",
              "    promise: Promise.race([pickedPromise, cancelPromise]),\n",
              "    response: {\n",
              "      action: 'starting',\n",
              "    }\n",
              "  };\n",
              "\n",
              "  cancel.remove();\n",
              "\n",
              "  // Disable the input element since further picks are not allowed.\n",
              "  inputElement.disabled = true;\n",
              "\n",
              "  if (!files) {\n",
              "    return {\n",
              "      response: {\n",
              "        action: 'complete',\n",
              "      }\n",
              "    };\n",
              "  }\n",
              "\n",
              "  for (const file of files) {\n",
              "    const li = document.createElement('li');\n",
              "    li.append(span(file.name, {fontWeight: 'bold'}));\n",
              "    li.append(span(\n",
              "        `(${file.type || 'n/a'}) - ${file.size} bytes, ` +\n",
              "        `last modified: ${\n",
              "            file.lastModifiedDate ? file.lastModifiedDate.toLocaleDateString() :\n",
              "                                    'n/a'} - `));\n",
              "    const percent = span('0% done');\n",
              "    li.appendChild(percent);\n",
              "\n",
              "    outputElement.appendChild(li);\n",
              "\n",
              "    const fileDataPromise = new Promise((resolve) => {\n",
              "      const reader = new FileReader();\n",
              "      reader.onload = (e) => {\n",
              "        resolve(e.target.result);\n",
              "      };\n",
              "      reader.readAsArrayBuffer(file);\n",
              "    });\n",
              "    // Wait for the data to be ready.\n",
              "    let fileData = yield {\n",
              "      promise: fileDataPromise,\n",
              "      response: {\n",
              "        action: 'continue',\n",
              "      }\n",
              "    };\n",
              "\n",
              "    // Use a chunked sending to avoid message size limits. See b/62115660.\n",
              "    let position = 0;\n",
              "    do {\n",
              "      const length = Math.min(fileData.byteLength - position, MAX_PAYLOAD_SIZE);\n",
              "      const chunk = new Uint8Array(fileData, position, length);\n",
              "      position += length;\n",
              "\n",
              "      const base64 = btoa(String.fromCharCode.apply(null, chunk));\n",
              "      yield {\n",
              "        response: {\n",
              "          action: 'append',\n",
              "          file: file.name,\n",
              "          data: base64,\n",
              "        },\n",
              "      };\n",
              "\n",
              "      let percentDone = fileData.byteLength === 0 ?\n",
              "          100 :\n",
              "          Math.round((position / fileData.byteLength) * 100);\n",
              "      percent.textContent = `${percentDone}% done`;\n",
              "\n",
              "    } while (position < fileData.byteLength);\n",
              "  }\n",
              "\n",
              "  // All done.\n",
              "  yield {\n",
              "    response: {\n",
              "      action: 'complete',\n",
              "    }\n",
              "  };\n",
              "}\n",
              "\n",
              "scope.google = scope.google || {};\n",
              "scope.google.colab = scope.google.colab || {};\n",
              "scope.google.colab._files = {\n",
              "  _uploadFiles,\n",
              "  _uploadFilesContinue,\n",
              "};\n",
              "})(self);\n",
              "</script> "
            ]
          },
          "metadata": {}
        },
        {
          "output_type": "stream",
          "name": "stdout",
          "text": [
            "Saving ProjectData-VolunteerResponses.csv to ProjectData-VolunteerResponses.csv\n"
          ]
        }
      ]
    },
    {
      "cell_type": "code",
      "source": [
        "from google.colab import files\n",
        "OCHA = files.upload()"
      ],
      "metadata": {
        "colab": {
          "base_uri": "https://localhost:8080/",
          "height": 73
        },
        "id": "J6AuaIXcqzTj",
        "outputId": "a822bde0-b485-47a9-afa3-6ae51a2dfd6c"
      },
      "execution_count": 6,
      "outputs": [
        {
          "output_type": "display_data",
          "data": {
            "text/plain": [
              "<IPython.core.display.HTML object>"
            ],
            "text/html": [
              "\n",
              "     <input type=\"file\" id=\"files-09eed398-0e6f-448d-906e-78c85598af69\" name=\"files[]\" multiple disabled\n",
              "        style=\"border:none\" />\n",
              "     <output id=\"result-09eed398-0e6f-448d-906e-78c85598af69\">\n",
              "      Upload widget is only available when the cell has been executed in the\n",
              "      current browser session. Please rerun this cell to enable.\n",
              "      </output>\n",
              "      <script>// Copyright 2017 Google LLC\n",
              "//\n",
              "// Licensed under the Apache License, Version 2.0 (the \"License\");\n",
              "// you may not use this file except in compliance with the License.\n",
              "// You may obtain a copy of the License at\n",
              "//\n",
              "//      http://www.apache.org/licenses/LICENSE-2.0\n",
              "//\n",
              "// Unless required by applicable law or agreed to in writing, software\n",
              "// distributed under the License is distributed on an \"AS IS\" BASIS,\n",
              "// WITHOUT WARRANTIES OR CONDITIONS OF ANY KIND, either express or implied.\n",
              "// See the License for the specific language governing permissions and\n",
              "// limitations under the License.\n",
              "\n",
              "/**\n",
              " * @fileoverview Helpers for google.colab Python module.\n",
              " */\n",
              "(function(scope) {\n",
              "function span(text, styleAttributes = {}) {\n",
              "  const element = document.createElement('span');\n",
              "  element.textContent = text;\n",
              "  for (const key of Object.keys(styleAttributes)) {\n",
              "    element.style[key] = styleAttributes[key];\n",
              "  }\n",
              "  return element;\n",
              "}\n",
              "\n",
              "// Max number of bytes which will be uploaded at a time.\n",
              "const MAX_PAYLOAD_SIZE = 100 * 1024;\n",
              "\n",
              "function _uploadFiles(inputId, outputId) {\n",
              "  const steps = uploadFilesStep(inputId, outputId);\n",
              "  const outputElement = document.getElementById(outputId);\n",
              "  // Cache steps on the outputElement to make it available for the next call\n",
              "  // to uploadFilesContinue from Python.\n",
              "  outputElement.steps = steps;\n",
              "\n",
              "  return _uploadFilesContinue(outputId);\n",
              "}\n",
              "\n",
              "// This is roughly an async generator (not supported in the browser yet),\n",
              "// where there are multiple asynchronous steps and the Python side is going\n",
              "// to poll for completion of each step.\n",
              "// This uses a Promise to block the python side on completion of each step,\n",
              "// then passes the result of the previous step as the input to the next step.\n",
              "function _uploadFilesContinue(outputId) {\n",
              "  const outputElement = document.getElementById(outputId);\n",
              "  const steps = outputElement.steps;\n",
              "\n",
              "  const next = steps.next(outputElement.lastPromiseValue);\n",
              "  return Promise.resolve(next.value.promise).then((value) => {\n",
              "    // Cache the last promise value to make it available to the next\n",
              "    // step of the generator.\n",
              "    outputElement.lastPromiseValue = value;\n",
              "    return next.value.response;\n",
              "  });\n",
              "}\n",
              "\n",
              "/**\n",
              " * Generator function which is called between each async step of the upload\n",
              " * process.\n",
              " * @param {string} inputId Element ID of the input file picker element.\n",
              " * @param {string} outputId Element ID of the output display.\n",
              " * @return {!Iterable<!Object>} Iterable of next steps.\n",
              " */\n",
              "function* uploadFilesStep(inputId, outputId) {\n",
              "  const inputElement = document.getElementById(inputId);\n",
              "  inputElement.disabled = false;\n",
              "\n",
              "  const outputElement = document.getElementById(outputId);\n",
              "  outputElement.innerHTML = '';\n",
              "\n",
              "  const pickedPromise = new Promise((resolve) => {\n",
              "    inputElement.addEventListener('change', (e) => {\n",
              "      resolve(e.target.files);\n",
              "    });\n",
              "  });\n",
              "\n",
              "  const cancel = document.createElement('button');\n",
              "  inputElement.parentElement.appendChild(cancel);\n",
              "  cancel.textContent = 'Cancel upload';\n",
              "  const cancelPromise = new Promise((resolve) => {\n",
              "    cancel.onclick = () => {\n",
              "      resolve(null);\n",
              "    };\n",
              "  });\n",
              "\n",
              "  // Wait for the user to pick the files.\n",
              "  const files = yield {\n",
              "    promise: Promise.race([pickedPromise, cancelPromise]),\n",
              "    response: {\n",
              "      action: 'starting',\n",
              "    }\n",
              "  };\n",
              "\n",
              "  cancel.remove();\n",
              "\n",
              "  // Disable the input element since further picks are not allowed.\n",
              "  inputElement.disabled = true;\n",
              "\n",
              "  if (!files) {\n",
              "    return {\n",
              "      response: {\n",
              "        action: 'complete',\n",
              "      }\n",
              "    };\n",
              "  }\n",
              "\n",
              "  for (const file of files) {\n",
              "    const li = document.createElement('li');\n",
              "    li.append(span(file.name, {fontWeight: 'bold'}));\n",
              "    li.append(span(\n",
              "        `(${file.type || 'n/a'}) - ${file.size} bytes, ` +\n",
              "        `last modified: ${\n",
              "            file.lastModifiedDate ? file.lastModifiedDate.toLocaleDateString() :\n",
              "                                    'n/a'} - `));\n",
              "    const percent = span('0% done');\n",
              "    li.appendChild(percent);\n",
              "\n",
              "    outputElement.appendChild(li);\n",
              "\n",
              "    const fileDataPromise = new Promise((resolve) => {\n",
              "      const reader = new FileReader();\n",
              "      reader.onload = (e) => {\n",
              "        resolve(e.target.result);\n",
              "      };\n",
              "      reader.readAsArrayBuffer(file);\n",
              "    });\n",
              "    // Wait for the data to be ready.\n",
              "    let fileData = yield {\n",
              "      promise: fileDataPromise,\n",
              "      response: {\n",
              "        action: 'continue',\n",
              "      }\n",
              "    };\n",
              "\n",
              "    // Use a chunked sending to avoid message size limits. See b/62115660.\n",
              "    let position = 0;\n",
              "    do {\n",
              "      const length = Math.min(fileData.byteLength - position, MAX_PAYLOAD_SIZE);\n",
              "      const chunk = new Uint8Array(fileData, position, length);\n",
              "      position += length;\n",
              "\n",
              "      const base64 = btoa(String.fromCharCode.apply(null, chunk));\n",
              "      yield {\n",
              "        response: {\n",
              "          action: 'append',\n",
              "          file: file.name,\n",
              "          data: base64,\n",
              "        },\n",
              "      };\n",
              "\n",
              "      let percentDone = fileData.byteLength === 0 ?\n",
              "          100 :\n",
              "          Math.round((position / fileData.byteLength) * 100);\n",
              "      percent.textContent = `${percentDone}% done`;\n",
              "\n",
              "    } while (position < fileData.byteLength);\n",
              "  }\n",
              "\n",
              "  // All done.\n",
              "  yield {\n",
              "    response: {\n",
              "      action: 'complete',\n",
              "    }\n",
              "  };\n",
              "}\n",
              "\n",
              "scope.google = scope.google || {};\n",
              "scope.google.colab = scope.google.colab || {};\n",
              "scope.google.colab._files = {\n",
              "  _uploadFiles,\n",
              "  _uploadFilesContinue,\n",
              "};\n",
              "})(self);\n",
              "</script> "
            ]
          },
          "metadata": {}
        },
        {
          "output_type": "stream",
          "name": "stdout",
          "text": [
            "Saving ProjectData-OHCAs.csv to ProjectData-OHCAs.csv\n"
          ]
        }
      ]
    },
    {
      "cell_type": "code",
      "source": [
        "df_ohca = pd.read_csv(\"ProjectData-OHCAs.csv\", index_col=0)\n",
        "df_volunteers = pd.read_csv(\"ProjectData-VolunteerResponses.csv\", index_col=0)"
      ],
      "metadata": {
        "id": "C-lC1EWtpSXA"
      },
      "execution_count": 7,
      "outputs": []
    },
    {
      "cell_type": "code",
      "source": [
        "response = pd.read_csv('ProjectData-VolunteerResponses.csv').values.T[1]\n",
        "delay = pd.read_csv('ProjectData-VolunteerResponses.csv').values.T[2]"
      ],
      "metadata": {
        "id": "n7CREbtDb0ud"
      },
      "execution_count": 8,
      "outputs": []
    },
    {
      "cell_type": "code",
      "source": [
        "yes = response == 1\n",
        "no = response == 2\n",
        "notimes = delay[no]\n",
        "yestimes = delay[yes]\n",
        "print(min(yestimes))\n",
        "print(min(notimes))"
      ],
      "metadata": {
        "colab": {
          "base_uri": "https://localhost:8080/"
        },
        "id": "FwL5nQFpb1X2",
        "outputId": "06f3fcbb-62d8-4460-c9a1-21eee731650f"
      },
      "execution_count": null,
      "outputs": [
        {
          "output_type": "stream",
          "name": "stdout",
          "text": [
            "15.19388617611426\n",
            "15.114230382949604\n"
          ]
        }
      ]
    },
    {
      "cell_type": "code",
      "source": [
        "# Confidence Intervals for volunteer response probabilities\n",
        "def get_ci(arr, target_val, name):\n",
        "    n = len(arr)\n",
        "    mu = round(np.mean(arr == target_val), 3)\n",
        "    std = np.std(arr == target_val)\n",
        "    sqrt_n = np.sqrt(n)\n",
        "    print(f\"Fraction of volunteers {name}: \", mu)\n",
        "    print(\"95% CI: [\",round(mu - 1.96*(std/sqrt_n),3),\",\",round(mu + 1.96*(std/sqrt_n),3),\"]\")\n",
        "get_ci(np.array(df_volunteers[\"Response\"]), 1, \"accept the alert\")\n",
        "get_ci(np.array(df_volunteers[\"Response\"]), 0, \"do not respond to the alert\")\n",
        "get_ci(np.array(df_volunteers[\"Response\"]), 2, \"decline the alert\")"
      ],
      "metadata": {
        "colab": {
          "base_uri": "https://localhost:8080/"
        },
        "id": "HSbsvb0bpTrg",
        "outputId": "88ab40a6-cbea-4d59-da4b-3f0556e954bd"
      },
      "execution_count": 23,
      "outputs": [
        {
          "output_type": "stream",
          "name": "stdout",
          "text": [
            "Fraction of volunteers accept the alert:  0.362\n",
            "95% CI: [ 0.353 , 0.371 ]\n",
            "Fraction of volunteers do not respond to the alert:  0.199\n",
            "95% CI: [ 0.192 , 0.206 ]\n",
            "Fraction of volunteers decline the alert:  0.439\n",
            "95% CI: [ 0.43 , 0.448 ]\n"
          ]
        }
      ]
    },
    {
      "cell_type": "code",
      "source": [
        "# Analyzing distribution of volunteer response times\n",
        "list_of_dists = ['beta','gamma','weibull_min','expon','lognorm','pareto']\n",
        "results = []\n",
        "data = df_volunteers[df_volunteers[\"Response\"] > 0][\"Response_Delay\"]\n",
        "for i in list_of_dists:\n",
        "    dist = getattr(stats, i)\n",
        "    param = dist.fit(data)\n",
        "    a = stats.kstest(data, i, args=param)\n",
        "    results.append((i,a[0],a[1], param))\n",
        "    results.sort(key=lambda x:float(x[2]), reverse=True)\n",
        "for j in results:\n",
        "    print(\"{}: statistic={}, pvalue={}, fitted-params={}\".format(j[0], j[1], j[2], j[3]))"
      ],
      "metadata": {
        "colab": {
          "base_uri": "https://localhost:8080/"
        },
        "id": "fnKdQzpYpVcI",
        "outputId": "abd026bd-5479-4618-c8fc-91721993f913"
      },
      "execution_count": 24,
      "outputs": [
        {
          "output_type": "stream",
          "name": "stderr",
          "text": [
            "/usr/local/lib/python3.8/dist-packages/scipy/stats/_continuous_distns.py:639: RuntimeWarning: invalid value encountered in sqrt\n",
            "  sk = 2*(b-a)*np.sqrt(a + b + 1) / (a + b + 2) / np.sqrt(a*b)\n",
            "/usr/local/lib/python3.8/dist-packages/scipy/optimize/minpack.py:175: RuntimeWarning: The iteration is not making good progress, as measured by the \n",
            "  improvement from the last ten iterations.\n",
            "  warnings.warn(msg, RuntimeWarning)\n",
            "/usr/local/lib/python3.8/dist-packages/scipy/stats/_distn_infrastructure.py:2606: RuntimeWarning: invalid value encountered in double_scalars\n",
            "  Lhat = muhat - Shat*mu\n"
          ]
        },
        {
          "output_type": "stream",
          "name": "stdout",
          "text": [
            "gamma: statistic=0.006441930472738666, pvalue=0.8443736915419809, fitted-params=(1.9593654619843286, 15.000551724006254, 15.432081359868059)\n",
            "lognorm: statistic=0.017758271526844505, pvalue=0.00655497672107618, fitted-params=(0.5806004904774125, 8.747377591460065, 30.977363483291512)\n",
            "beta: statistic=0.05992396526240662, pvalue=1.0757581358409348e-28, fitted-params=(4.521870922678066, 32.32276108934241, 0.3046564893455196, 367.4313762192901)\n",
            "expon: statistic=0.13246041152576382, pvalue=6.0986671940255376e-139, fitted-params=(15.114230382949604, 30.12338776996958)\n",
            "weibull_min: statistic=0.5005489627240027, pvalue=0.0, fitted-params=(0.6055553067817324, 15.114230382949602, 9.233329465794972)\n",
            "pareto: statistic=0.24884888601045468, pvalue=0.0, fitted-params=(1.006075815730346, -0.0373775838660759, 15.151607912668089)\n"
          ]
        }
      ]
    },
    {
      "cell_type": "code",
      "source": [
        "# Plotting fitted distribution to data\n",
        "pos = 0\n",
        "vol_param = results[pos][3]\n",
        "vol_dist = getattr(stats, results[pos][0])\n",
        "x_values = np.arange(0, 200, 0.1)\n",
        "if len(vol_param) > 2:\n",
        "    fitted_f = vol_dist.pdf(x_values, *vol_param[:-2], loc = vol_param[-2], scale = vol_param[-1])\n",
        "else:\n",
        "    fitted_f = vol_dist.pdf(x_values, loc = vol_param[-2], scale = vol_param[-1])\n",
        "plt.hist(df_volunteers[df_volunteers[\"Response\"] > 0][\"Response_Delay\"], density = True, bins = 50)\n",
        "plt.plot(x_values, fitted_f, color = \"red\")\n",
        "plt.xlabel(\"Delay Time\")\n",
        "plt.title(\"Response Delay\")\n",
        "plt.show()\n",
        "print(\"Distribution:\", vol_dist)\n",
        "print(\"Params:\", vol_param)"
      ],
      "metadata": {
        "colab": {
          "base_uri": "https://localhost:8080/",
          "height": 330
        },
        "id": "thEaNRefpWnA",
        "outputId": "e8221c26-5400-4fad-a94e-c8fc2b7c8ad8"
      },
      "execution_count": 25,
      "outputs": [
        {
          "output_type": "display_data",
          "data": {
            "text/plain": [
              "<Figure size 432x288 with 1 Axes>"
            ],
            "image/png": "[encoded data removed]"
          },
          "metadata": {
            "needs_background": "light"
          }
        },
        {
          "output_type": "stream",
          "name": "stdout",
          "text": [
            "Distribution: <scipy.stats._continuous_distns.gamma_gen object at 0x7ff9efb62d30>\n",
            "Params: (1.9593654619843286, 15.000551724006254, 15.432081359868059)\n"
          ]
        }
      ]
    },
    {
      "cell_type": "code",
      "source": [
        "# Analyzing dostribution of ambulance response times\n",
        "list_of_dists = ['beta','gamma','weibull_min','expon','lognorm','pareto']\n",
        "results = []\n",
        "data = df_ohca[\"Amb_Arrival_Time\"] - df_ohca[\"Dispatch_Time\"]\n",
        "data = data[data < 1] # Remove Outliers\n",
        "for i in list_of_dists:\n",
        "    dist = getattr(stats, i)\n",
        "    param = dist.fit(data)\n",
        "    a = stats.kstest(data, i, args=param)\n",
        "    results.append((i,a[0],a[1], param))\n",
        "    results.sort(key=lambda x:float(x[2]), reverse=True)\n",
        "for j in results:\n",
        "    print(\"{}: statistic={}, pvalue={}, fitted-params={}\".format(j[0], j[1], j[2], j[3]))\n",
        "pos = 0\n",
        "amb_param = results[pos][3]\n",
        "amb_dist = getattr(stats, results[pos][0])\n",
        "x_values = np.arange(0, 0.5, 0.01)\n",
        "if len(param) > 2:\n",
        "    fitted_f = amb_dist.pdf(x_values, *amb_param[:-2], loc = amb_param[-2], scale = amb_param[-1])\n",
        "else:\n",
        "    fitted_f = amb_dist.pdf(x_values, loc = amb_param[-2], scale = amb_param[-1])\n",
        "plt.hist(data, density = True, bins = 50)\n",
        "plt.plot(x_values, fitted_f, color = \"red\")\n",
        "plt.xlabel(\"Ambulance Arrival Time From Dispatch Time\")\n",
        "plt.title(\"Ambulance Time\")\n",
        "plt.show()\n",
        "print(\"Distribution:\", amb_dist)\n",
        "print(\"Params:\", amb_param)"
      ],
      "metadata": {
        "colab": {
          "base_uri": "https://localhost:8080/",
          "height": 555
        },
        "id": "caeSGlqwpX8Y",
        "outputId": "d9dab9aa-caa7-48b6-c530-e7c4fb6c444d"
      },
      "execution_count": 26,
      "outputs": [
        {
          "output_type": "stream",
          "name": "stderr",
          "text": [
            "/usr/local/lib/python3.8/dist-packages/scipy/stats/_continuous_distns.py:639: RuntimeWarning: invalid value encountered in sqrt\n",
            "  sk = 2*(b-a)*np.sqrt(a + b + 1) / (a + b + 2) / np.sqrt(a*b)\n",
            "/usr/local/lib/python3.8/dist-packages/scipy/optimize/minpack.py:175: RuntimeWarning: The iteration is not making good progress, as measured by the \n",
            "  improvement from the last ten iterations.\n",
            "  warnings.warn(msg, RuntimeWarning)\n",
            "/usr/local/lib/python3.8/dist-packages/scipy/stats/_distn_infrastructure.py:2606: RuntimeWarning: invalid value encountered in double_scalars\n",
            "  Lhat = muhat - Shat*mu\n"
          ]
        },
        {
          "output_type": "stream",
          "name": "stdout",
          "text": [
            "lognorm: statistic=0.006889863320311884, pvalue=0.3221463752492987, fitted-params=(0.37561727084426594, -0.014753138903784482, 0.12276276673960146)\n",
            "beta: statistic=0.03206382287859166, pvalue=1.5745849229598938e-17, fitted-params=(5.812607805247563, 29.948511090353804, -0.011035800777366619, 0.7889300941173283)\n",
            "weibull_min: statistic=0.032853706576045805, pvalue=2.2086027313718476e-18, fitted-params=(2.011361425340554, 0.020666994737902386, 0.10889548503190731)\n",
            "gamma: statistic=0.42083404507706723, pvalue=0.0, fitted-params=(0.4025849167051162, 0.020700114448118253, 1.0928410801416235)\n",
            "expon: statistic=0.23929101483501813, pvalue=0.0, fitted-params=(0.020700114448118256, 0.09623171906696228)\n",
            "pareto: statistic=0.2666051998498139, pvalue=0.0, fitted-params=(15604732.586734546, -1369220.850205775, 1369220.8709058894)\n"
          ]
        },
        {
          "output_type": "display_data",
          "data": {
            "text/plain": [
              "<Figure size 432x288 with 1 Axes>"
            ],
            "image/png": "[encoded data removed]"
          },
          "metadata": {
            "needs_background": "light"
          }
        },
        {
          "output_type": "stream",
          "name": "stdout",
          "text": [
            "Distribution: <scipy.stats._continuous_distns.lognorm_gen object at 0x7ff9efb2d880>\n",
            "Params: (0.37561727084426594, -0.014753138903784482, 0.12276276673960146)\n"
          ]
        }
      ]
    },
    {
      "cell_type": "code",
      "source": [
        "#Create distribution\n",
        "#50 x 50 heat map\n",
        "#Calculating the total amount of samples in each square\n",
        "lat = df_ohca['Lat']\n",
        "lon = df_ohca['Lon']\n",
        "min_lat = min(lat); max_lat = max(lat)\n",
        "min_lon = min(lon); max_lon = max(lon)\n",
        "def create_grid(df_ohca, bins = 100):\n",
        "    size_lon = (max_lon - min_lon) / bins\n",
        "    size_lat = (max_lat - min_lat) / bins\n",
        "    df = df_ohca.copy()\n",
        "    df[\"lat_index\"] = ((df[\"Lat\"] - min_lat) / size_lat).astype(int)\n",
        "    df[\"lon_index\"] = ((df[\"Lon\"] - min_lon) / size_lon).astype(int)\n",
        "    df[\"freq\"] = 1\n",
        "    df_gb = df[[\"lon_index\", \"lat_index\", \"freq\"]].groupby([\"lon_index\",\"lat_index\"]).sum().reset_index()\n",
        "    df_gb[\"density\"] = df_gb[\"freq\"] / df_gb[\"freq\"].sum()\n",
        "    return df_gb[[\"lon_index\", \"lat_index\", \"density\"]]\n",
        "df_density = create_grid(df_ohca, bins = 50)\n",
        "#print(df_density)\n",
        "df_density_grid = df_density.pivot(index = \"lat_index\", columns = [\"lon_index\"],\n",
        "values = \"density\").fillna(0).to_numpy()\n",
        "#print(df_density_grid)"
      ],
      "metadata": {
        "id": "HyQoFkFIpZV4"
      },
      "execution_count": 27,
      "outputs": []
    },
    {
      "cell_type": "code",
      "source": [
        "\n",
        "def haversine_distance(lon1, lat1, lon2, lat2):\n",
        "    lon1, lat1, lon2, lat2 = map(np.radians, [lon1, lat1, lon2, lat2])\n",
        "    dlon = lon2 - lon1\n",
        "    dlat = lat2 - lat1\n",
        "    a = np.sin(dlat/2.0)**2 + np.cos(lat1) * np.cos(lat2) * np.sin(dlon/2.0)**2\n",
        "    c = 2 * np.arcsin(np.sqrt(a))\n",
        "    km = 6367 * c\n",
        "    return km"
      ],
      "metadata": {
        "id": "3C2RH0zVpaZw"
      },
      "execution_count": 28,
      "outputs": []
    },
    {
      "cell_type": "code",
      "source": [
        "\n",
        "#Generate single event\n",
        "def generate_single(num_trials):\n",
        "    p = df_density_grid.flatten()\n",
        "    ohca_location = np.random.choice(a = len(p), size = num_trials, replace = True, p = p)\n",
        "    bins = df_density_grid.shape[0]\n",
        "    size_lon = (max_lon - min_lon) / bins\n",
        "    size_lat = (max_lat - min_lat) / bins\n",
        "    lon_mat = np.random.uniform(0, 1, size = num_trials) * size_lon\n",
        "    lat_mat = np.random.uniform(0, 1, size = num_trials) * size_lat\n",
        "    lon_mat += (ohca_location % bins) * size_lon\n",
        "    lat_mat += (ohca_location // bins) * size_lat\n",
        "    return lon_mat, lat_mat"
      ],
      "metadata": {
        "id": "CiILdCiXpbQ4"
      },
      "execution_count": 29,
      "outputs": []
    },
    {
      "cell_type": "code",
      "source": [
        "# Generate one OHCA and the volunteers within 1 km\n",
        "def generate_instance(num_volunteers):\n",
        "    lon_ohca, lat_ohca = generate_single(1)\n",
        "    p = df_density_grid.flatten()\n",
        "    ohca_location = np.random.choice(a = len(p), size = (num_volunteers), replace = True, p = p)\n",
        "    bins = df_density_grid.shape[0]\n",
        "    size_lon = (max_lon - min_lon) / bins\n",
        "    size_lat = (max_lat - min_lat) / bins\n",
        "    lon_mat = np.random.uniform(0, 1, size = (num_volunteers)) * size_lon\n",
        "    lat_mat = np.random.uniform(0, 1, size = (num_volunteers)) * size_lat\n",
        "    lon_mat += (ohca_location % bins) * size_lon\n",
        "    lat_mat += (ohca_location // bins) * size_lat\n",
        "    distances = haversine_distance(lon_ohca, lat_ohca, lon_mat, lat_mat)\n",
        "    valid = distances <= 1\n",
        "    distances = distances[valid]\n",
        "    distances.sort(axis = 0)\n",
        "    return distances"
      ],
      "metadata": {
        "id": "Li9Wyvm9pczR"
      },
      "execution_count": 30,
      "outputs": []
    },
    {
      "cell_type": "code",
      "source": [
        "def probability(t1, t2):\n",
        "    return math.pow(1 + math.exp(0.04+0.3*t1+0.14*(t2-t1)), -1)"
      ],
      "metadata": {
        "id": "r3dG_SPrpeHB"
      },
      "execution_count": 31,
      "outputs": []
    },
    {
      "cell_type": "code",
      "source": [
        "# Generate the responses of a group of volunteers\n",
        "def generate_responses(distances, p_yes, p_no):\n",
        "    uniform = np.random.random(len(distances))\n",
        "    yes = uniform < p_yes\n",
        "    no = np.logical_and(uniform >= p_yes, uniform < (p_yes + p_no))\n",
        "    no_response = uniform >= (p_yes + p_no)\n",
        "    uniform[no_response] = 0\n",
        "    uniform[yes] = 1\n",
        "    uniform[no] = 2\n",
        "    return uniform\n",
        "#generate_responses(generate_instance(1200), 0.3, 0.3)"
      ],
      "metadata": {
        "id": "YJzXz4qdpfQx"
      },
      "execution_count": 32,
      "outputs": []
    },
    {
      "cell_type": "code",
      "source": [
        "def generate_ambulance_delay():\n",
        "    return amb_dist.rvs(*amb_param[:-2], loc = amb_param[-2], scale = amb_param[-1])"
      ],
      "metadata": {
        "id": "gMNKFsTfpgY5"
      },
      "execution_count": 33,
      "outputs": []
    },
    {
      "cell_type": "code",
      "source": [
        "\n",
        "n = 10000\n",
        "output = np.zeros(n)\n",
        "for i in range(n):\n",
        "    output[i] = generate_ambulance_delay()\n",
        "plt.hist(output, density = True)\n",
        "x_values = np.arange(0, 0.5, 0.01)\n",
        "fitted_f = amb_dist.pdf(x_values, *amb_param[:-2], loc = amb_param[-2], scale = amb_param[-1])\n",
        "plt.plot(x_values, fitted_f)\n",
        "plt.xlabel(\"Generated Ambulance Arrival Time From Dispatch Time\")\n",
        "plt.title(\"Ambulance Time\")"
      ],
      "metadata": {
        "id": "aNUJHjXdphl5",
        "colab": {
          "base_uri": "https://localhost:8080/",
          "height": 312
        },
        "outputId": "95c95bcc-5777-4f9e-8990-f8dfcab88db3"
      },
      "execution_count": 34,
      "outputs": [
        {
          "output_type": "execute_result",
          "data": {
            "text/plain": [
              "Text(0.5, 1.0, 'Ambulance Time')"
            ]
          },
          "metadata": {},
          "execution_count": 34
        },
        {
          "output_type": "display_data",
          "data": {
            "text/plain": [
              "<Figure size 432x288 with 1 Axes>"
            ],
            "image/png": "[encoded data removed]"
          },
          "metadata": {
            "needs_background": "light"
          }
        }
      ]
    },
    {
      "cell_type": "code",
      "source": [
        "def generate_volunteer_delay(n):\n",
        "    return vol_dist.rvs(*vol_param[:-2], loc = vol_param[-2], scale = vol_param[-1], size = n)"
      ],
      "metadata": {
        "id": "CKiBQexApi6Z"
      },
      "execution_count": 35,
      "outputs": []
    },
    {
      "cell_type": "code",
      "source": [
        "\n",
        "n = 10000\n",
        "output = generate_volunteer_delay(n)\n",
        "plt.hist(output, density = True)\n",
        "x_values = np.arange(0, 200, 0.1)\n",
        "fitted_f = vol_dist.pdf(x_values, *vol_param[:-2], loc = vol_param[-2], scale = vol_param[-1])\n",
        "plt.plot(x_values, fitted_f)\n",
        "plt.xlabel(\"Generated Volunteer Arrival Time From Dispatch Time\")\n",
        "plt.title(\"Volunteer Time\")"
      ],
      "metadata": {
        "id": "TvuITZA3pj-p",
        "colab": {
          "base_uri": "https://localhost:8080/",
          "height": 312
        },
        "outputId": "af48713b-00ed-4a30-8934-e32d051e9fdc"
      },
      "execution_count": 36,
      "outputs": [
        {
          "output_type": "execute_result",
          "data": {
            "text/plain": [
              "Text(0.5, 1.0, 'Volunteer Time')"
            ]
          },
          "metadata": {},
          "execution_count": 36
        },
        {
          "output_type": "display_data",
          "data": {
            "text/plain": [
              "<Figure size 432x288 with 1 Axes>"
            ],
            "image/png": "[encoded data removed]"
          },
          "metadata": {
            "needs_background": "light"
          }
        }
      ]
    },
    {
      "cell_type": "code",
      "source": [
        "def generate_alert_delay():\n",
        "    return np.random.triangular(1.5, 2.5, 3.5)"
      ],
      "metadata": {
        "id": "yArGeNFgplWx"
      },
      "execution_count": 37,
      "outputs": []
    },
    {
      "cell_type": "code",
      "source": [
        "def generate_attend(responses):\n",
        "    uniform = np.random.random(len(responses))\n",
        "    return np.logical_or(responses == 1, np.logical_and(responses == 0, uniform <= 0.15))\n",
        "#generate_attend(generate_responses(generate_instance(1200), 0.362, 0.439))"
      ],
      "metadata": {
        "id": "U7IxQ584pmUy"
      },
      "execution_count": 38,
      "outputs": []
    },
    {
      "cell_type": "code",
      "source": [
        "def sim_single_distance(dist, n, num_volunteers, p_yes, p_no):\n",
        "    survival_rate = np.zeros(n)\n",
        "    alerted_volunteers = np.zeros(n)\n",
        "    nearby = np.zeros(n)\n",
        "    volunteer_first = np.zeros(n)\n",
        "    for i in range(n):\n",
        "        alert_delay = generate_alert_delay()\n",
        "        t2 = alert_delay + generate_ambulance_delay() * 60\n",
        "        distances = generate_instance(num_volunteers)\n",
        "        if(len(distances) > 0 and distances[0] < 0.2):\n",
        "            nearby[i] = 1\n",
        "        alert = distances[distances < dist]\n",
        "        alerted_volunteers[i] = len(alert)\n",
        "        responses = generate_responses(alert, p_yes, p_no)\n",
        "        attend = alert[generate_attend(responses)]\n",
        "        respond_delay = alert_delay + generate_volunteer_delay(len(attend)) / 60\n",
        "        vol_delay = respond_delay + (attend / 6 * 60)\n",
        "        t1 = min(t2, np.min(vol_delay, initial = 60))\n",
        "        if(t1 < t2):\n",
        "            volunteer_first[i] = 1\n",
        "        survival_rate[i] = probability(t1, t2)\n",
        "    return survival_rate, alerted_volunteers, nearby, volunteer_first"
      ],
      "metadata": {
        "id": "NFjBbdCTpnSp"
      },
      "execution_count": 39,
      "outputs": []
    },
    {
      "cell_type": "code",
      "source": [
        "survival_rate, alerted_volunteers, nearby, volunteer_first = sim_single_distance(1, 1000, 12000, 0.362, 0.439)\n",
        "plt.hist(survival_rate, density = True)\n",
        "plt.xlabel(\"Simulated Survival Rates\")\n",
        "plt.title(\"Survival Rate\")\n",
        "print(survival_rate.mean())\n",
        "print(alerted_volunteers.mean())\n",
        "print(nearby.mean())\n",
        "print(volunteer_first.mean())\n",
        "half = 1.96 * (survival_rate.var() / 1000) ** 0.5\n",
        "mean = survival_rate.mean()\n",
        "print(mean - half, mean + half)"
      ],
      "metadata": {
        "id": "0MVnn5YTppWx",
        "colab": {
          "base_uri": "https://localhost:8080/",
          "height": 382
        },
        "outputId": "daa74ceb-bdd9-4b7d-bb57-15f76dbd93e4"
      },
      "execution_count": 40,
      "outputs": [
        {
          "output_type": "stream",
          "name": "stdout",
          "text": [
            "0.1182647814558403\n",
            "187.974\n",
            "0.934\n",
            "0.969\n",
            "0.11574718306766527 0.12078237984401533\n"
          ]
        },
        {
          "output_type": "display_data",
          "data": {
            "text/plain": [
              "<Figure size 432x288 with 1 Axes>"
            ],
            "image/png": "[encoded data removed]"
          },
          "metadata": {
            "needs_background": "light"
          }
        }
      ]
    },
    {
      "cell_type": "code",
      "source": [
        "x = np.arange(0, 1, 0.05)\n",
        "survival = np.zeros(len(x))\n",
        "num = np.zeros(len(x))\n",
        "for i in range(len(x)):\n",
        "    survival_rate, num_alerted, nearby, volunteer_first = sim_single_distance(x[i], 1000, 12000, 0.362, 0.439)\n",
        "    survival[i] = survival_rate.mean()\n",
        "    num[i] = num_alerted.mean()\n",
        "plt.plot(x, survival)\n",
        "plt.xlabel(\"Alerted Distance (km)\")\n",
        "plt.ylabel(\"Survival Rate\")\n",
        "plt.title(\"Survival Rate vs Alerted Distance\")\n",
        "plt.show()\n",
        "plt.close()\n",
        "plt.plot(x, num)\n",
        "plt.xlabel(\"Alerted Distance (km)\")\n",
        "plt.ylabel(\"Alerted Volunteers\")\n",
        "plt.title(\"Alerted Volunteers vs Alerted Distance\")\n",
        "plt.show()\n",
        "plt.close()"
      ],
      "metadata": {
        "id": "ndV1TRmIpqO5",
        "colab": {
          "base_uri": "https://localhost:8080/",
          "height": 573
        },
        "outputId": "b33ea625-4d6d-4298-d001-a2acc86b447a"
      },
      "execution_count": 41,
      "outputs": [
        {
          "output_type": "display_data",
          "data": {
            "text/plain": [
              "<Figure size 432x288 with 1 Axes>"
            ],
            "image/png": "[encoded data removed]"
          },
          "metadata": {
            "needs_background": "light"
          }
        },
        {
          "output_type": "display_data",
          "data": {
            "text/plain": [
              "<Figure size 432x288 with 1 Axes>"
            ],
            "image/png": "[encoded data removed]"
          },
          "metadata": {
            "needs_background": "light"
          }
        }
      ]
    },
    {
      "cell_type": "code",
      "source": [
        "survival_rate, num_alerted, nearby, volunteer_first = sim_single_distance(0.2, 1000, 12000, 0.362, 0.439)\n",
        "plt.hist(survival_rate, density = True)\n",
        "print(survival_rate.mean())\n",
        "print(num_alerted.mean())\n",
        "half = 1.96 * (survival_rate.var() / 1000) ** 0.5\n",
        "mean = survival_rate.mean()\n",
        "print(mean - half, mean + half)"
      ],
      "metadata": {
        "id": "5a4W9eMOprbB",
        "colab": {
          "base_uri": "https://localhost:8080/",
          "height": 319
        },
        "outputId": "7691104f-6e10-4a09-dbe0-235c7b33d1a8"
      },
      "execution_count": 42,
      "outputs": [
        {
          "output_type": "stream",
          "name": "stdout",
          "text": [
            "0.11443385435853992\n",
            "7.806\n",
            "0.11139181221588343 0.11747589650119641\n"
          ]
        },
        {
          "output_type": "display_data",
          "data": {
            "text/plain": [
              "<Figure size 432x288 with 1 Axes>"
            ],
            "image/png": "[encoded data removed]"
          },
          "metadata": {
            "needs_background": "light"
          }
        }
      ]
    },
    {
      "cell_type": "code",
      "source": [
        "survival_rate, num_alerted, nearby, volunteer_first = sim_single_distance(0.25, 1000, 12000, 0.362, 0.439)\n",
        "plt.hist(survival_rate, density = True)\n",
        "print(survival_rate.mean())\n",
        "print(num_alerted.mean())\n",
        "half = 1.96 * (survival_rate.var() / 1000) ** 0.5\n",
        "mean = survival_rate.mean()\n",
        "print(mean - half, mean + half)"
      ],
      "metadata": {
        "id": "vPU0f3NupsXy",
        "colab": {
          "base_uri": "https://localhost:8080/",
          "height": 317
        },
        "outputId": "fde3a7cb-2e41-4698-e290-95114d21639c"
      },
      "execution_count": 43,
      "outputs": [
        {
          "output_type": "stream",
          "name": "stdout",
          "text": [
            "0.11666583434383823\n",
            "12.188\n",
            "0.11381085503512209 0.11952081365255438\n"
          ]
        },
        {
          "output_type": "display_data",
          "data": {
            "text/plain": [
              "<Figure size 432x288 with 1 Axes>"
            ],
            "image/png": "[encoded data removed]"
          },
          "metadata": {
            "needs_background": "light"
          }
        }
      ]
    },
    {
      "cell_type": "code",
      "source": [
        "def sim_single_number(num, n, num_volunteers, p_yes, p_no):\n",
        "    walkspeed = 6 #in km/hr\n",
        "    survival_rate = np.zeros(n)\n",
        "    num_alerted = np.zeros(n)\n",
        "    nearby = np.zeros(n)\n",
        "    volunteer_first = np.zeros(n)\n",
        "    for i in range(n):\n",
        "        alert_delay = generate_alert_delay()\n",
        "        ambulance_travel = generate_ambulance_delay() * 60\n",
        "        t2 = alert_delay + ambulance_travel\n",
        "        distances = generate_instance(num_volunteers)\n",
        "        if(len(distances) > 0 and distances[0] < 0.2):\n",
        "            nearby[i] = 1\n",
        "        alert = distances[:num]\n",
        "\n",
        "        #Checking to see if we can exclude any due to being further than the ambulance\n",
        "        keep_volunteer = []\n",
        "        for j in range(len(alert)):\n",
        "          test_time = alert[j]/ walkspeed * 60 #Time for volunteer to walk in minutes\n",
        "          if(test_time < ambulance_travel):\n",
        "            keep_volunteer.append(alert[j])\n",
        "        keep = np.zeros(len(keep_volunteer))\n",
        "        for k in range(len(keep_volunteer)):\n",
        "          keep[k] = keep_volunteer[k]\n",
        "        alert = keep\n",
        "        \n",
        "        num_alerted[i] = len(alert)\n",
        "        responses = generate_responses(alert, p_yes, p_no)\n",
        "        attend = alert[generate_attend(responses)]\n",
        "        respond_delay = alert_delay + generate_volunteer_delay(len(attend)) / 60\n",
        "        vol_delay = respond_delay + (attend / 6 * 60)\n",
        "        t1 = min(t2, np.min(vol_delay, initial = 60))\n",
        "        if(t1 < t2):\n",
        "            volunteer_first[i] = 1\n",
        "        survival_rate[i] = probability(t1, t2)\n",
        "    return survival_rate, num_alerted, nearby, volunteer_first"
      ],
      "metadata": {
        "id": "hLT6yJGnptkB"
      },
      "execution_count": 44,
      "outputs": []
    },
    {
      "cell_type": "code",
      "source": [
        "survival_rate, num_alerted, nearby, volunteer_first = sim_single_number(100, 1000, 12000, 0.362, 0.439)\n",
        "plt.hist(survival_rate, density = True)\n",
        "print(survival_rate.mean())\n",
        "print(num_alerted.mean())\n",
        "print(nearby.mean())\n",
        "print(volunteer_first.mean())"
      ],
      "metadata": {
        "colab": {
          "base_uri": "https://localhost:8080/",
          "height": 334
        },
        "id": "_4QeWbrQpuv5",
        "outputId": "feb21820-ee1a-4107-abf5-d5d340a14ef1"
      },
      "execution_count": 45,
      "outputs": [
        {
          "output_type": "stream",
          "name": "stdout",
          "text": [
            "0.11976451999116088\n",
            "57.526\n",
            "0.939\n",
            "0.966\n"
          ]
        },
        {
          "output_type": "display_data",
          "data": {
            "text/plain": [
              "<Figure size 432x288 with 1 Axes>"
            ],
            "image/png": "[encoded data removed]"
          },
          "metadata": {
            "needs_background": "light"
          }
        }
      ]
    },
    {
      "cell_type": "code",
      "source": [
        "x = np.arange(0, 20, 1)\n",
        "survival = np.zeros(len(x))\n",
        "num = np.zeros(len(x))\n",
        "for i in range(len(x)):\n",
        "    survival_rate, num_alerted, nearby, volunteer_first = sim_single_number(x[i], 1000, 12000, 0.362, 0.439)\n",
        "    survival[i] = survival_rate.mean()\n",
        "    num[i] = num_alerted.mean()\n",
        "plt.plot(x, survival)\n",
        "plt.xlabel(\"Alerted Number\")\n",
        "plt.ylabel(\"Survival Rate\")\n",
        "plt.title(\"Survival Rate vs Alerted Number\")\n",
        "plt.show()\n",
        "plt.close()\n",
        "plt.plot(x, num)\n",
        "plt.xlabel(\"Alerted Number\")\n",
        "plt.ylabel(\"Alerted Volunteers\")\n",
        "plt.title(\"Alerted Volunteers vs Alerted Number\")\n",
        "plt.show()\n",
        "plt.close()"
      ],
      "metadata": {
        "id": "8S6aw-dSpwOR",
        "colab": {
          "base_uri": "https://localhost:8080/",
          "height": 573
        },
        "outputId": "e087be36-6b7d-46b2-a35a-520a8fc0b70d"
      },
      "execution_count": 46,
      "outputs": [
        {
          "output_type": "display_data",
          "data": {
            "text/plain": [
              "<Figure size 432x288 with 1 Axes>"
            ],
            "image/png": "[encoded data removed]"
          },
          "metadata": {
            "needs_background": "light"
          }
        },
        {
          "output_type": "display_data",
          "data": {
            "text/plain": [
              "<Figure size 432x288 with 1 Axes>"
            ],
            "image/png": "[encoded data removed]"
          },
          "metadata": {
            "needs_background": "light"
          }
        }
      ]
    },
    {
      "cell_type": "code",
      "source": [
        "survival_rate, num_alerted, nearby, volunteer_first = sim_single_number(4, 1000, 12000, 0.362, 0.439)\n",
        "plt.hist(survival_rate, density = True)\n",
        "print(survival_rate.mean())\n",
        "print(num_alerted.mean())\n",
        "half = 1.96 * (survival_rate.var() / 1000) ** 0.5\n",
        "mean = survival_rate.mean()\n",
        "print(mean - half, mean + half)"
      ],
      "metadata": {
        "colab": {
          "base_uri": "https://localhost:8080/",
          "height": 317
        },
        "id": "NeGMqR7hpxkR",
        "outputId": "85ea92d9-6ddf-4987-a149-c61b2cae6451"
      },
      "execution_count": null,
      "outputs": [
        {
          "output_type": "stream",
          "name": "stdout",
          "text": [
            "0.11404869354706486\n",
            "3.925\n",
            "0.11114767013093882 0.1169497169631909\n"
          ]
        },
        {
          "output_type": "display_data",
          "data": {
            "text/plain": [
              "<Figure size 432x288 with 1 Axes>"
            ],
            "image/png": "[encoded data removed]"
          },
          "metadata": {
            "needs_background": "light"
          }
        }
      ]
    },
    {
      "cell_type": "code",
      "source": [
        "survival_rate, num_alerted, nearby, volunteer_first = sim_single_number(5, 10000, 12000, 0.362, 0.439)\n",
        "plt.hist(survival_rate, density = True)\n",
        "print(survival_rate.mean())\n",
        "print(num_alerted.mean())\n",
        "half = 1.96 * (survival_rate.var() / 1000) ** 0.5\n",
        "mean = survival_rate.mean()\n",
        "print(mean - half, mean + half)"
      ],
      "metadata": {
        "colab": {
          "base_uri": "https://localhost:8080/",
          "height": 317
        },
        "id": "5eeSrqlmpzFp",
        "outputId": "f2f9592a-b14c-4c7a-c589-55710aa51af6"
      },
      "execution_count": null,
      "outputs": [
        {
          "output_type": "stream",
          "name": "stdout",
          "text": [
            "0.11537755271307619\n",
            "4.895\n",
            "0.11254291920494691 0.11821218622120547\n"
          ]
        },
        {
          "output_type": "display_data",
          "data": {
            "text/plain": [
              "<Figure size 432x288 with 1 Axes>"
            ],
            "image/png": "[encoded data removed]"
          },
          "metadata": {
            "needs_background": "light"
          }
        }
      ]
    },
    {
      "cell_type": "code",
      "source": [
        "x = np.arange(0.353, 0.371, 0.009)\n",
        "survival = np.zeros(len(x))\n",
        "for i in range(len(x)):\n",
        "    survival_rate, num_alerted, nearby, volunteer_first = sim_single_number(5,1000, 12000, x[i], 0.439)\n",
        "    survival[i] = survival_rate.mean()\n",
        "plt.plot(x, survival)\n",
        "plt.xlabel(\"Volunteer Acceptance Probability\")\n",
        "plt.ylabel(\"Survival Rate\")\n",
        "plt.title(\"Survival Rate vs Volunteer Acceptance Probability\")\n",
        "plt.show()\n",
        "plt.close()"
      ],
      "metadata": {
        "id": "yz4KGxXKp0Pr",
        "colab": {
          "base_uri": "https://localhost:8080/",
          "height": 295
        },
        "outputId": "2898a033-e785-4fa7-b5fc-e6e506719a0f"
      },
      "execution_count": null,
      "outputs": [
        {
          "output_type": "display_data",
          "data": {
            "text/plain": [
              "<Figure size 432x288 with 1 Axes>"
            ],
            "image/png": "[encoded data removed]"
          },
          "metadata": {
            "needs_background": "light"
          }
        }
      ]
    },
    {
      "cell_type": "code",
      "source": [
        "x = np.arange(0.43 , 0.448, 0.009)\n",
        "survival = np.zeros(len(x))\n",
        "for i in range(len(x)):\n",
        "    survival_rate, num_alerted, nearby, volunteer_first = sim_single_number(5, 1000, 12000, 0.362, x[i])\n",
        "    survival[i] = survival_rate.mean()\n",
        "plt.plot(x, survival)\n",
        "plt.xlabel(\"Volunteer Decline Probability\")\n",
        "plt.ylabel(\"Survival Rate\")\n",
        "plt.title(\"Survival Rate vs Volunteer Decline Probability\")\n",
        "plt.show()\n",
        "plt.close()"
      ],
      "metadata": {
        "id": "4vBqTSGRp1Uy",
        "colab": {
          "base_uri": "https://localhost:8080/",
          "height": 295
        },
        "outputId": "8a3191f1-86af-41da-b20e-3b9f1ec5e4cd"
      },
      "execution_count": null,
      "outputs": [
        {
          "output_type": "display_data",
          "data": {
            "text/plain": [
              "<Figure size 432x288 with 1 Axes>"
            ],
            "image/png": "[encoded data removed]"
          },
          "metadata": {
            "needs_background": "light"
          }
        }
      ]
    },
    {
      "cell_type": "markdown",
      "source": [
        "Testing a policy of sending two signals. 1st we immediately send a signal to the 3 closest people. Then we try waiting, 20,30,40,50,60 secs to see if any of them respond yes. If none have responded yes by that time interval, we send a signal to the next 3 closest people."
      ],
      "metadata": {
        "id": "JPbgiHUtqJki"
      }
    },
    {
      "cell_type": "code",
      "source": [
        "def two_batch(num_batch_one,num_batch_two,time_delay,n, num_volunteers, p_yes, p_no):\n",
        "    walkspeed = 6 #in km/hr\n",
        "    time_diff_table = [0.3,0.5,1,3,7,15,25]\n",
        "    survival_rate = np.zeros(n)\n",
        "    num_alerted = np.zeros(n)\n",
        "    nearby = np.zeros(n)\n",
        "    volunteer_first = np.zeros(n)\n",
        "    num = num_batch_one + num_batch_two\n",
        "    for i in range(n):\n",
        "        alert_delay = generate_alert_delay()\n",
        "        ambulance_travel = generate_ambulance_delay() * 60\n",
        "        t2 = alert_delay + ambulance_travel\n",
        "        #coordinate t2 time with the possible intervals in our table above. Each spot reresents a 5 min interval\n",
        "        #Except the last represents 30-37.5\n",
        "        if(t2 < 37.5):\n",
        "          table_index = int(np.floor(t2/5))\n",
        "          #Resolve if it lands above 35mins\n",
        "          if(table_index == 7):\n",
        "            table_index = 6\n",
        "          time_diff = time_diff_table[table_index]\n",
        "        #If it doesn't land on this interval, don't send any volunteers, it won't make a difference\n",
        "        if(t2 >= 37.5):\n",
        "          time_diff = 1000\n",
        "        \n",
        "        distances = generate_instance(num_volunteers)\n",
        "        if(len(distances) > 0 and distances[0] < 0.2):\n",
        "            nearby[i] = 1\n",
        "        alert = distances[:num]\n",
        "\n",
        "        #Checking to see if we can exclude any due to not being able to get there significantly faster\n",
        "        #than the ambulance. This is referencing the table based on the ambulance arrival time. We also\n",
        "        #include an expected minimum 15sec response time from the volunteers, as we saw nothing lower\n",
        "        #than that in our data\n",
        "        keep_volunteer = []\n",
        "        for j in range(len(alert)):\n",
        "          test_time = alert_delay + .25 + alert[j]/ walkspeed * 60 #Time for volunteer to respond and walk in minutes\n",
        "          if(test_time < t2):\n",
        "            #Only keep if the t1 time is significantly faster than the t2 time\n",
        "            if(t2 - test_time >= time_diff):\n",
        "              keep_volunteer.append(alert[j])\n",
        "        keep = np.zeros(len(keep_volunteer))\n",
        "        for k in range(len(keep_volunteer)):\n",
        "          keep[k] = keep_volunteer[k]\n",
        "        alert = keep\n",
        "        \n",
        "        #Resolving scenario when there is less than the total number of volunteers\n",
        "        #we wish in the area\n",
        "        batch_one = num_batch_one\n",
        "        batch_two = num_batch_two\n",
        "        if(len(alert) < num):\n",
        "          if(len(alert) <= num_batch_one):\n",
        "            batch_one = len(alert)\n",
        "            batch_two = 0\n",
        "          else:\n",
        "            batch_one = num_batch_one\n",
        "            batch_two = len(alert) - batch_one\n",
        "        responses = generate_responses(alert, p_yes, p_no)\n",
        "        attend = generate_attend(responses)\n",
        "        click_delay = generate_volunteer_delay(len(responses)) / 60\n",
        "        respond_delay = alert_delay + click_delay\n",
        "\n",
        "        #Go through the response times of the first batch to see if any responded fast enough and that they responded yes\n",
        "        #if someone in first group responded yes in time, alerted volunteers is equal to that of the size of the first group\n",
        "        #else alerted volunteers is equal to the sum of the sizes of both\n",
        "        first_batch = False\n",
        "        for m in range(batch_one):\n",
        "          if(click_delay[m] <= time_delay):\n",
        "            if(responses[m] == True):\n",
        "              first_batch = True\n",
        "        if(first_batch == True):\n",
        "          num_alerted[i] = batch_one\n",
        "        else:\n",
        "          num_alerted[i] = batch_one + batch_two\n",
        "        \n",
        "        vol_delay = respond_delay + (alert / 6 * 60) #Time from start of event until each volunteer has made their choice\n",
        "        #Split the times of the volunteer responses based on their batch\n",
        "        time_delay_ones = vol_delay[:batch_one]\n",
        "        time_delay_twos = vol_delay[batch_one:] + time_delay #Time_delay being how long we wait before consider sending a 2nd signal\n",
        "\n",
        "        #Now we want to simply look at the times in each batch in which the volunteer actaully heads to the even\n",
        "        attend_time_one = time_delay_ones[attend[:batch_one]]\n",
        "        attend_time_two = time_delay_twos[attend[batch_one:]]\n",
        "        #We only want the minimum of these two vectors, as this will be the first volunteer to arrive at the scene\n",
        "        #So we get the minimum of each vector and then compare them to each other\n",
        "        if(len(attend_time_one) > 0):\n",
        "          attend_one_min = np.min(attend_time_one)\n",
        "        else:\n",
        "          attend_one_min = 60\n",
        "        if(len(attend_time_two) > 0):\n",
        "          attend_two_min = np.min(attend_time_two)\n",
        "        else:\n",
        "          attend_two_min = 61\n",
        "        first_volunteer = min(attend_one_min,attend_two_min)\n",
        "        t1 = min(t2, first_volunteer)\n",
        "        if(t1 < t2):\n",
        "            volunteer_first[i] = 1\n",
        "        survival_rate[i] = probability(t1, t2)\n",
        "    return survival_rate, num_alerted, nearby, volunteer_first"
      ],
      "metadata": {
        "id": "kUGn4GA48CaC"
      },
      "execution_count": 77,
      "outputs": []
    },
    {
      "cell_type": "code",
      "source": [],
      "metadata": {
        "colab": {
          "base_uri": "https://localhost:8080/"
        },
        "id": "ocyj2By7SVju",
        "outputId": "5821a907-1876-4f83-a952-8e308dfef2a7"
      },
      "execution_count": 76,
      "outputs": [
        {
          "output_type": "stream",
          "name": "stdout",
          "text": [
            "[]\n"
          ]
        }
      ]
    },
    {
      "cell_type": "code",
      "source": [
        "survival_rate, num_alerted, nearby, volunteer_first = two_batch(4,2,.5,10000, 12000, 0.362, 0.439)\n",
        "plt.hist(survival_rate, density = True)\n",
        "print(survival_rate.mean())\n",
        "print(num_alerted.mean())\n",
        "half = 1.96 * (survival_rate.var() / 1000) ** 0.5\n",
        "mean = survival_rate.mean()\n",
        "print(mean - half, mean + half)"
      ],
      "metadata": {
        "colab": {
          "base_uri": "https://localhost:8080/",
          "height": 317
        },
        "id": "Y5OjdTK0Ob7o",
        "outputId": "b7bba94e-bda2-4b53-8995-4f70f8af7330"
      },
      "execution_count": 86,
      "outputs": [
        {
          "output_type": "stream",
          "name": "stdout",
          "text": [
            "0.11489817198602102\n",
            "5.1151\n",
            "0.11208777570816635 0.1177085682638757\n"
          ]
        },
        {
          "output_type": "display_data",
          "data": {
            "text/plain": [
              "<Figure size 432x288 with 1 Axes>"
            ],
            "image/png": "[encoded data removed]"
          },
          "metadata": {
            "needs_background": "light"
          }
        }
      ]
    },
    {
      "cell_type": "markdown",
      "source": [
        "Now that we have a working two batch policy, I will test running a few different batch sizes and time delays. It doesn't make sense to have the sum of our two batches to be greater than that of our optimal 5 volunteers at once policy. I will try to find which combination of two batches with their sum being 5 would be best. We will start with a time control of 30 secs"
      ],
      "metadata": {
        "id": "5_FtWF-ARs0N"
      }
    },
    {
      "cell_type": "code",
      "source": [
        "first = [1,2,3,4,5]\n",
        "SR = []\n",
        "for i in range(len(first)):\n",
        "  survival_rate, num_alerted, nearby, volunteer_first = two_batch(first[i], 5-first[i],0.5,10000, 12000, 0.362, 0.439)\n",
        "  SR.append(survival_rate.mean())\n",
        "plt.plot(first,SR)\n",
        "plt.title(\"Survival Rate Using Two Signals of Size (x/5-x)\")\n",
        "plt.xlabel(\"Number of Volunteers with First Signal Signal\")\n",
        "plt.ylabel(\"Survival Rate\")"
      ],
      "metadata": {
        "colab": {
          "base_uri": "https://localhost:8080/",
          "height": 312
        },
        "id": "hAB7O8ywRsUl",
        "outputId": "f3b06a60-1b00-40c3-8dd9-8d25ce95e76b"
      },
      "execution_count": null,
      "outputs": [
        {
          "output_type": "execute_result",
          "data": {
            "text/plain": [
              "Text(0, 0.5, 'Survival Rate')"
            ]
          },
          "metadata": {},
          "execution_count": 155
        },
        {
          "output_type": "display_data",
          "data": {
            "text/plain": [
              "<Figure size 432x288 with 1 Axes>"
            ],
            "image/png": "[encoded data removed]"
          },
          "metadata": {
            "needs_background": "light"
          }
        }
      ]
    },
    {
      "cell_type": "markdown",
      "source": [
        "Obviously, the SR should increase as we increase the size of batch one, but we want a number that would fall within a reasonable loss of SR. Here I think 3 or 2 would be appropriate. Lets try the 2/3 policy to start"
      ],
      "metadata": {
        "id": "d939WgZKXeOD"
      }
    },
    {
      "cell_type": "code",
      "source": [
        "#Using a second batch size of about 3 (as this keeps us in the range of okay) find optimal time delay\n",
        "times = [.25,.35,.45,.55,.65,.75,1]\n",
        "SR = []\n",
        "for i in range(len(times)):\n",
        "  survival_rate, num_alerted, nearby, volunteer_first = two_batch(3, 2,times[i],10000, 12000, 0.362, 0.439)\n",
        "  SR.append(survival_rate.mean())\n",
        "plt.plot(times,SR)\n",
        "plt.title(\"Survival Rate Using Two Signals of Size (3/2) with Various Time Delays\")\n",
        "plt.xlabel(\"Time Delay Between The Two Signals\")\n",
        "plt.ylabel(\"Survival Rate\")"
      ],
      "metadata": {
        "colab": {
          "base_uri": "https://localhost:8080/",
          "height": 312
        },
        "id": "faPG_cNzTZRl",
        "outputId": "5fd10c37-7607-424f-84a0-fad497a7036c"
      },
      "execution_count": null,
      "outputs": [
        {
          "output_type": "execute_result",
          "data": {
            "text/plain": [
              "Text(0, 0.5, 'Survival Rate')"
            ]
          },
          "metadata": {},
          "execution_count": 41
        },
        {
          "output_type": "display_data",
          "data": {
            "text/plain": [
              "<Figure size 432x288 with 1 Axes>"
            ],
            "image/png": "[encoded data removed]"
          },
          "metadata": {
            "needs_background": "light"
          }
        }
      ]
    },
    {
      "cell_type": "markdown",
      "source": [
        "Again, we expect SR to decrease with a larger time delay, but we are looking for acceptable losses in the ways of practical signifance. .4 or .5 seems to be alright, but anything lower has too signifcant of SR loss."
      ],
      "metadata": {
        "id": "dsZhvWugU31M"
      }
    },
    {
      "cell_type": "markdown",
      "source": [
        "I would like to try to find a practical sigificane in the different time arrivals of the ambulance and first volunteer. That is, if a volunteer was to arrive at the scene only 1/2 secs faster than the ambulance, is it even worth hailing that volunteer. We already know from the data we are given, that no one who has responded, does so faster than 15 secs, so we can reduce the ambulance arrival time by 15 seconds (when looking specifically for how far out we should alert). Now we just have to adjust for how big a difference is significant. We can do this by looking at the SR calculation and varying t1. We will try doing this with the expectation that the ambulance will arrive at its mean time."
      ],
      "metadata": {
        "id": "PA9rEUg6aCrh"
      }
    },
    {
      "cell_type": "code",
      "source": [
        "time = np.arange(4,5,.1)\n",
        "reps = 1000\n",
        "SR = np.zeros(len(time))\n",
        "for i in range(len(time)):\n",
        "  rate = np.zeros(reps)\n",
        "  for j in range(reps):\n",
        "    alert_delay = generate_alert_delay()\n",
        "    ambulance_travel = generate_ambulance_delay() * 60\n",
        "    t2 = 5\n",
        "    t1 = min(time[i],t2)\n",
        "    rate[j] = probability(t1,t2)\n",
        "  SR[i] = sum(rate)/reps\n",
        "plt.plot(time,SR)\n"
      ],
      "metadata": {
        "colab": {
          "base_uri": "https://localhost:8080/",
          "height": 282
        },
        "id": "_GBan2kFdXoP",
        "outputId": "fd693c28-72d1-4709-8fca-f8d382cfa845"
      },
      "execution_count": null,
      "outputs": [
        {
          "output_type": "execute_result",
          "data": {
            "text/plain": [
              "[<matplotlib.lines.Line2D at 0x7f5355fc8970>]"
            ]
          },
          "metadata": {},
          "execution_count": 64
        },
        {
          "output_type": "display_data",
          "data": {
            "text/plain": [
              "<Figure size 432x288 with 1 Axes>"
            ],
            "image/png": "[encoded data removed]"
          },
          "metadata": {
            "needs_background": "light"
          }
        }
      ]
    },
    {
      "cell_type": "markdown",
      "source": [
        "Seems the time difference becomes much more important the faster the ambulance is to arrive at the scene. For instance, if ambulance arrives in 5 mins, everything is significant that is atleast .8 mins faster, if we use a .005 level of significane for SR"
      ],
      "metadata": {
        "id": "Hiz9Yp3Shxuo"
      }
    },
    {
      "cell_type": "code",
      "source": [
        "def speed_test(amb_arrival_times,SR_significane):\n",
        "  min_sig_diff= np.zeros(len(amb_arrival_times))\n",
        "  for i in range(len(amb_arrival_times)):\n",
        "    vol_time = np.arange(0,amb_arrival_times[i],0.1)\n",
        "    rate = np.zeros(len(vol_time))\n",
        "    t2 = amb_arrival_times[i]\n",
        "    for j in range(len(vol_time)):\n",
        "      t1 = min(vol_time[j],t2)\n",
        "      rate[j] = probability(t1,t2)\n",
        "    for k in range(len(rate)):\n",
        "      if(rate[k] - rate[(len(rate)) - 1] >= SR_significane):\n",
        "        min_sig_diff[i] = amb_arrival_times[i] - vol_time[k]\n",
        "  return min_sig_diff\n",
        "      \n",
        "    "
      ],
      "metadata": {
        "id": "XVuX7PMAdXfv"
      },
      "execution_count": 48,
      "outputs": []
    },
    {
      "cell_type": "code",
      "source": [
        "x = np.arange(0,0,0.1)"
      ],
      "metadata": {
        "colab": {
          "base_uri": "https://localhost:8080/"
        },
        "id": "zcV2pbKlmQcE",
        "outputId": "e3ebdf69-c04b-4a10-8f1c-c143ae33ddf2"
      },
      "execution_count": null,
      "outputs": [
        {
          "output_type": "execute_result",
          "data": {
            "text/plain": [
              "0"
            ]
          },
          "metadata": {},
          "execution_count": 68
        }
      ]
    },
    {
      "cell_type": "code",
      "source": [
        "times = np.arange(10,45,1)\n",
        "sig = .005\n",
        "diffs = speed_test(times,sig)\n",
        "plt.plot(times,diffs)\n",
        "plt.title('Minimum Volunteer Time Ahead Significane Compared to Varying Ambulance Arrival Times')\n",
        "plt.ylabel('Time Volunteer Ahead (Mins)')\n",
        "plt.xlabel('Ambulance Arrival Time (Mins)')"
      ],
      "metadata": {
        "colab": {
          "base_uri": "https://localhost:8080/",
          "height": 312
        },
        "id": "h3yCo4vTl4m8",
        "outputId": "c17c4dc6-932f-43a1-c1fc-dc8272a66b0a"
      },
      "execution_count": null,
      "outputs": [
        {
          "output_type": "execute_result",
          "data": {
            "text/plain": [
              "Text(0.5, 0, 'Ambulance Arrival Time (Mins)')"
            ]
          },
          "metadata": {},
          "execution_count": 72
        },
        {
          "output_type": "display_data",
          "data": {
            "text/plain": [
              "<Figure size 432x288 with 1 Axes>"
            ],
            "image/png": "[encoded data removed]"
          },
          "metadata": {
            "needs_background": "light"
          }
        }
      ]
    },
    {
      "cell_type": "code",
      "source": [
        "times = np.arange(30,40,0.1)\n",
        "sig = .005\n",
        "diffs = speed_test(times,sig)\n",
        "plt.plot(times,diffs)\n",
        "plt.title('Minimum Volunteer Time Ahead Significane Compared to Varying Ambulance Arrival Times')\n",
        "plt.ylabel('Time Volunteer Ahead (Mins)')\n",
        "plt.xlabel('Ambulance Arrival Time (Mins)')"
      ],
      "metadata": {
        "colab": {
          "base_uri": "https://localhost:8080/",
          "height": 312
        },
        "id": "6Vqx6_y0ErAr",
        "outputId": "d4a254db-473f-495e-82a2-49919e91fcf9"
      },
      "execution_count": 63,
      "outputs": [
        {
          "output_type": "execute_result",
          "data": {
            "text/plain": [
              "Text(0.5, 0, 'Ambulance Arrival Time (Mins)')"
            ]
          },
          "metadata": {},
          "execution_count": 63
        },
        {
          "output_type": "display_data",
          "data": {
            "text/plain": [
              "<Figure size 432x288 with 1 Axes>"
            ],
            "image/png": "[encoded data removed]"
          },
          "metadata": {
            "needs_background": "light"
          }
        }
      ]
    },
    {
      "cell_type": "markdown",
      "source": [
        "This graph is showing just how far ahead a volunteer has to arrive compared to the ambulance to make and practical significane in a patients survival rate. This is about what we'd expect. Every second counts at the start but the further the ambulance is away, the less impact a volunteer can have. At a certain threshold, about 38 mins according to the graph, it doesn't matter that a volunteer arrives at all because they make no practical significane. The significane level can be changed, intially I am working with a difference in survival rate of .5% being the minimum significane"
      ],
      "metadata": {
        "id": "hUUHKMtbnW6-"
      }
    },
    {
      "cell_type": "markdown",
      "source": [
        "Table: The information I'd like to get out of this is a table of different time values that we can use to adjust the radius in which we look for available volunteers. E.g. If the ambulance is due to arrive quite quickly, we should look for anyone that can get there faster than the ambulance at all, probably up to about 10 mins by the looks of the graph (might be worth splitting between 0-5 and 5-10 mins). Then as the graph's slope is increasing, we should increase the frequency in which we change the radius. At 20 mins it looks to be around 10 mins faster is significant, but at 25 mins, the volunteer has to be 15 mins faster. I'd argue that the time difference is about linear between 20-38mins and again we can settle for 1 or 2 radius for under 10 mins, so 10-20 mins is the most tricky."
      ],
      "metadata": {
        "id": "WYFem2yApmOG"
      }
    },
    {
      "cell_type": "markdown",
      "source": [
        "based on the graphs, I am going with 2 times for the 0-10 range. For 0-5 mins of ambulance arrival time, the volunteer needs to get there atleast 0.3 mins faster to make a difference. For 5-10 mins, the volunteer must get there atleast 0.5 mins faster. I am also going with a two different time system for 10-20. If the ambulance arrives 10-15 mins, the volunteer must arrive atleast 1 min faster. If the ambulance arrives 15-20 mins, then the volunteer must arrive atleast 3 mins faster. 20-25 : 7 mins, 25-30: 15 mins, 30-37.5: 25mins after 37.5 mins it makes no difference to send any volunteers"
      ],
      "metadata": {
        "id": "VUaoWgs3KSOq"
      }
    },
    {
      "cell_type": "code",
      "source": [
        "time_diff_table = [0.3,0.5,1,3,7,15,25] #These values represent the min time a volunteer must reach the scene before the ambulance with the given intervals above\n"
      ],
      "metadata": {
        "id": "vZgnF7UCrs9L"
      },
      "execution_count": null,
      "outputs": []
    }
  ]
}
